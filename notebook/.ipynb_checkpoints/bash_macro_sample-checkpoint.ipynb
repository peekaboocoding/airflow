{
 "cells": [
  {
   "cell_type": "code",
   "execution_count": 2,
   "id": "2b28931b-2de5-40ea-a189-62d9b6845eed",
   "metadata": {},
   "outputs": [
    {
     "name": "stdout",
     "output_type": "stream",
     "text": [
      "3.8.10 (tags/v3.8.10:3d8993a, May  3 2021, 11:48:03) [MSC v.1928 64 bit (AMD64)]\n"
     ]
    }
   ],
   "source": [
    "import sys\n",
    "print(sys.version) "
   ]
  },
  {
   "cell_type": "code",
   "execution_count": 3,
   "id": "fc8a7c42-d43d-4c34-bd6e-c4d56d8de0df",
   "metadata": {},
   "outputs": [],
   "source": [
    "from datetime import datetime\n",
    "from dateutil import relativedelta"
   ]
  },
  {
   "cell_type": "code",
   "execution_count": 6,
   "id": "b4d30191-e5cc-4644-adb5-c941b9f62ff6",
   "metadata": {},
   "outputs": [
    {
     "name": "stdout",
     "output_type": "stream",
     "text": [
      "현재시간:2023-02-28 00:00:00\n",
      "--------------월 연산--------------\n",
      "2023-01-28 00:00:00\n",
      "2023-01-28 00:00:00\n",
      "2022-12-28 00:00:00\n",
      "2023-04-28 00:00:00\n",
      "--------------일 연산--------------\n",
      "2023-02-01 00:00:00\n",
      "2023-02-01 00:00:00\n",
      "2023-02-27 00:00:00\n",
      "2023-03-01 00:00:00\n",
      "--------------연산 여러 개--------------\n",
      "2023-03-27 00:00:00\n"
     ]
    }
   ],
   "source": [
    "now = datetime(year=2023, month=2, day=28)\n",
    "print('현재시간:'+str(now))\n",
    "print('--------------월 연산--------------')\n",
    "print(now + relativedelta.relativedelta(month=1)) # 1월로 변경\n",
    "print(now.replace(month=1))                       # 1월로 변경\n",
    "print(now + relativedelta.relativedelta(months=-2)) # 1개월 빼기\n",
    "print(now + relativedelta.relativedelta(months=2))  # 1개월 더하기\n",
    "print('--------------일 연산--------------')\n",
    "print(now + relativedelta.relativedelta(day=1)) # 1일로 변경\n",
    "print(now.replace(day=1))                       # 1일로 변경\n",
    "print(now + relativedelta.relativedelta(days=-1)) # 1일 빼기\n",
    "print(now + relativedelta.relativedelta(days=1))  # 1일 더하기\n",
    "print('--------------연산 여러 개--------------')\n",
    "print(now + relativedelta.relativedelta(months=1)+ relativedelta.relativedelta(days=-1)) # 1개월 더하기, 1일 빼기로 변경\n",
    "\n",
    "                "
   ]
  }
 ],
 "metadata": {
  "kernelspec": {
   "display_name": "Python 3 (ipykernel)",
   "language": "python",
   "name": "python3"
  },
  "language_info": {
   "codemirror_mode": {
    "name": "ipython",
    "version": 3
   },
   "file_extension": ".py",
   "mimetype": "text/x-python",
   "name": "python",
   "nbconvert_exporter": "python",
   "pygments_lexer": "ipython3",
   "version": "3.8.10"
  }
 },
 "nbformat": 4,
 "nbformat_minor": 5
}
